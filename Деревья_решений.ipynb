{
  "nbformat": 4,
  "nbformat_minor": 0,
  "metadata": {
    "colab": {
      "provenance": [],
      "authorship_tag": "ABX9TyO9pvXDEEW8SwzpSno7wcPv",
      "include_colab_link": true
    },
    "kernelspec": {
      "name": "python3",
      "display_name": "Python 3"
    },
    "language_info": {
      "name": "python"
    }
  },
  "cells": [
    {
      "cell_type": "markdown",
      "metadata": {
        "id": "view-in-github",
        "colab_type": "text"
      },
      "source": [
        "<a href=\"https://colab.research.google.com/github/OctavaOrigin/Classic-Machine-Learning/blob/main/%D0%94%D0%B5%D1%80%D0%B5%D0%B2%D1%8C%D1%8F_%D1%80%D0%B5%D1%88%D0%B5%D0%BD%D0%B8%D0%B9.ipynb\" target=\"_parent\"><img src=\"https://colab.research.google.com/assets/colab-badge.svg\" alt=\"Open In Colab\"/></a>"
      ]
    },
    {
      "cell_type": "code",
      "source": [
        "from sklearn.datasets import fetch_california_housing\n",
        "from sklearn.model_selection import train_test_split\n",
        "import pandas as pd\n",
        "import numpy as np\n",
        "import matplotlib.pyplot as plt\n",
        "import seaborn as sns"
      ],
      "metadata": {
        "id": "o_OKeBDKAFa0"
      },
      "execution_count": null,
      "outputs": []
    },
    {
      "cell_type": "code",
      "source": [
        "data_raw = fetch_california_housing()\n",
        "target = data_raw.target\n",
        "data = pd.DataFrame(data_raw.data, columns = data_raw.feature_names)"
      ],
      "metadata": {
        "id": "Q4luVoDGztFu"
      },
      "execution_count": null,
      "outputs": []
    },
    {
      "cell_type": "code",
      "source": [
        "X = data\n",
        "y = target"
      ],
      "metadata": {
        "id": "SGNogqKtzvbF"
      },
      "execution_count": null,
      "outputs": []
    },
    {
      "cell_type": "code",
      "source": [
        "X_train, X_test, y_train, y_test = train_test_split(X, y, random_state = 42, test_size = 0.2)"
      ],
      "metadata": {
        "id": "-lgCpRYzSMNb"
      },
      "execution_count": null,
      "outputs": []
    },
    {
      "cell_type": "code",
      "source": [
        "from sklearn.linear_model import LinearRegression"
      ],
      "metadata": {
        "id": "gij-S7NKTvhk"
      },
      "execution_count": null,
      "outputs": []
    },
    {
      "cell_type": "code",
      "source": [
        "model = LinearRegression()\n",
        "model.fit(X_train, y_train)\n",
        "y_pred = model.predict(X_test)\n",
        "model.score(X_test, y_test)"
      ],
      "metadata": {
        "colab": {
          "base_uri": "https://localhost:8080/"
        },
        "id": "ubnIHDx_T1rU",
        "outputId": "724571e0-d956-4e12-b0b8-6a62dcf0c91c"
      },
      "execution_count": null,
      "outputs": [
        {
          "output_type": "execute_result",
          "data": {
            "text/plain": [
              "0.5757877060324508"
            ]
          },
          "metadata": {},
          "execution_count": 31
        }
      ]
    },
    {
      "cell_type": "code",
      "source": [
        "from sklearn.tree import DecisionTreeRegressor"
      ],
      "metadata": {
        "id": "f2NnXnnQUOcd"
      },
      "execution_count": null,
      "outputs": []
    },
    {
      "cell_type": "code",
      "source": [
        "model = DecisionTreeRegressor()\n",
        "model.fit(X_train, y_train)\n",
        "y_pred = model.predict(X_test)\n",
        "model.score(X_test, y_test)"
      ],
      "metadata": {
        "colab": {
          "base_uri": "https://localhost:8080/"
        },
        "id": "YPi5Dk9jUY4e",
        "outputId": "bf2e83fc-76f0-41e9-a044-3e3a61371086"
      },
      "execution_count": null,
      "outputs": [
        {
          "output_type": "execute_result",
          "data": {
            "text/plain": [
              "0.6260338073892127"
            ]
          },
          "metadata": {},
          "execution_count": 48
        }
      ]
    },
    {
      "cell_type": "code",
      "source": [
        "from sklearn import tree\n",
        "import graphviz\n",
        "\n",
        "# Визуализация дерева решений\n",
        "dot_data = tree.export_graphviz(model, out_file=None,\n",
        "                                feature_names = data_raw.feature_names,\n",
        "                                class_names = data_raw.target_names,\n",
        "                                filled=True, rounded=True,\n",
        "                                special_characters=True,\n",
        "                                max_depth=3)\n",
        "graph = graphviz.Source(dot_data)\n",
        "\n",
        "# Отображение визуализации дерева решений\n",
        "graph"
      ],
      "metadata": {
        "colab": {
          "base_uri": "https://localhost:8080/",
          "height": 655
        },
        "id": "5E_AEFZ-Us6u",
        "outputId": "964f3538-fa6b-451c-9d1b-557d2c4e6de5"
      },
      "execution_count": null,
      "outputs": [
        {
          "output_type": "execute_result",
          "data": {
            "image/svg+xml": "<?xml version=\"1.0\" encoding=\"UTF-8\" standalone=\"no\"?>\n<!DOCTYPE svg PUBLIC \"-//W3C//DTD SVG 1.1//EN\"\n \"http://www.w3.org/Graphics/SVG/1.1/DTD/svg11.dtd\">\n<!-- Generated by graphviz version 2.43.0 (0)\n -->\n<!-- Title: Tree Pages: 1 -->\n<svg width=\"1334pt\" height=\"460pt\"\n viewBox=\"0.00 0.00 1334.00 460.00\" xmlns=\"http://www.w3.org/2000/svg\" xmlns:xlink=\"http://www.w3.org/1999/xlink\">\n<g id=\"graph0\" class=\"graph\" transform=\"scale(1 1) rotate(0) translate(4 456)\">\n<title>Tree</title>\n<polygon fill=\"white\" stroke=\"transparent\" points=\"-4,4 -4,-456 1330,-456 1330,4 -4,4\"/>\n<!-- 0 -->\n<g id=\"node1\" class=\"node\">\n<title>0</title>\n<path fill=\"#f5cdb1\" stroke=\"black\" d=\"M814,-452C814,-452 687,-452 687,-452 681,-452 675,-446 675,-440 675,-440 675,-396 675,-396 675,-390 681,-384 687,-384 687,-384 814,-384 814,-384 820,-384 826,-390 826,-396 826,-396 826,-440 826,-440 826,-446 820,-452 814,-452\"/>\n<text text-anchor=\"start\" x=\"703.5\" y=\"-436.8\" font-family=\"Helvetica,sans-Serif\" font-size=\"14.00\">MedInc ≤ 5.086</text>\n<text text-anchor=\"start\" x=\"683\" y=\"-421.8\" font-family=\"Helvetica,sans-Serif\" font-size=\"14.00\">squared_error = 1.337</text>\n<text text-anchor=\"start\" x=\"698\" y=\"-406.8\" font-family=\"Helvetica,sans-Serif\" font-size=\"14.00\">samples = 16512</text>\n<text text-anchor=\"start\" x=\"709.5\" y=\"-391.8\" font-family=\"Helvetica,sans-Serif\" font-size=\"14.00\">value = 2.072</text>\n</g>\n<!-- 1 -->\n<g id=\"node2\" class=\"node\">\n<title>1</title>\n<path fill=\"#f6d6be\" stroke=\"black\" d=\"M561,-348C561,-348 434,-348 434,-348 428,-348 422,-342 422,-336 422,-336 422,-292 422,-292 422,-286 428,-280 434,-280 434,-280 561,-280 561,-280 567,-280 573,-286 573,-292 573,-292 573,-336 573,-336 573,-342 567,-348 561,-348\"/>\n<text text-anchor=\"start\" x=\"450.5\" y=\"-332.8\" font-family=\"Helvetica,sans-Serif\" font-size=\"14.00\">MedInc ≤ 3.074</text>\n<text text-anchor=\"start\" x=\"430\" y=\"-317.8\" font-family=\"Helvetica,sans-Serif\" font-size=\"14.00\">squared_error = 0.834</text>\n<text text-anchor=\"start\" x=\"445\" y=\"-302.8\" font-family=\"Helvetica,sans-Serif\" font-size=\"14.00\">samples = 13101</text>\n<text text-anchor=\"start\" x=\"460\" y=\"-287.8\" font-family=\"Helvetica,sans-Serif\" font-size=\"14.00\">value = 1.74</text>\n</g>\n<!-- 0&#45;&gt;1 -->\n<g id=\"edge1\" class=\"edge\">\n<title>0&#45;&gt;1</title>\n<path fill=\"none\" stroke=\"black\" d=\"M674.93,-386.53C645.9,-374.83 612.56,-361.39 582.68,-349.34\"/>\n<polygon fill=\"black\" stroke=\"black\" points=\"583.7,-345.98 573.11,-345.48 581.08,-352.47 583.7,-345.98\"/>\n<text text-anchor=\"middle\" x=\"582.9\" y=\"-364.79\" font-family=\"Helvetica,sans-Serif\" font-size=\"14.00\">True</text>\n</g>\n<!-- 25814 -->\n<g id=\"node17\" class=\"node\">\n<title>25814</title>\n<path fill=\"#eeac7c\" stroke=\"black\" d=\"M900,-348C900,-348 773,-348 773,-348 767,-348 761,-342 761,-336 761,-336 761,-292 761,-292 761,-286 767,-280 773,-280 773,-280 900,-280 900,-280 906,-280 912,-286 912,-292 912,-292 912,-336 912,-336 912,-342 906,-348 900,-348\"/>\n<text text-anchor=\"start\" x=\"789.5\" y=\"-332.8\" font-family=\"Helvetica,sans-Serif\" font-size=\"14.00\">MedInc ≤ 6.888</text>\n<text text-anchor=\"start\" x=\"769\" y=\"-317.8\" font-family=\"Helvetica,sans-Serif\" font-size=\"14.00\">squared_error = 1.218</text>\n<text text-anchor=\"start\" x=\"788\" y=\"-302.8\" font-family=\"Helvetica,sans-Serif\" font-size=\"14.00\">samples = 3411</text>\n<text text-anchor=\"start\" x=\"795.5\" y=\"-287.8\" font-family=\"Helvetica,sans-Serif\" font-size=\"14.00\">value = 3.348</text>\n</g>\n<!-- 0&#45;&gt;25814 -->\n<g id=\"edge16\" class=\"edge\">\n<title>0&#45;&gt;25814</title>\n<path fill=\"none\" stroke=\"black\" d=\"M778.42,-383.88C785.93,-374.98 794.14,-365.24 801.97,-355.96\"/>\n<polygon fill=\"black\" stroke=\"black\" points=\"804.65,-358.2 808.42,-348.3 799.3,-353.69 804.65,-358.2\"/>\n<text text-anchor=\"middle\" x=\"810.54\" y=\"-369.51\" font-family=\"Helvetica,sans-Serif\" font-size=\"14.00\">False</text>\n</g>\n<!-- 2 -->\n<g id=\"node3\" class=\"node\">\n<title>2</title>\n<path fill=\"#f9e0ce\" stroke=\"black\" d=\"M308,-244C308,-244 181,-244 181,-244 175,-244 169,-238 169,-232 169,-232 169,-188 169,-188 169,-182 175,-176 181,-176 181,-176 308,-176 308,-176 314,-176 320,-182 320,-188 320,-188 320,-232 320,-232 320,-238 314,-244 308,-244\"/>\n<text text-anchor=\"start\" x=\"186.5\" y=\"-228.8\" font-family=\"Helvetica,sans-Serif\" font-size=\"14.00\">AveRooms ≤ 4.314</text>\n<text text-anchor=\"start\" x=\"177\" y=\"-213.8\" font-family=\"Helvetica,sans-Serif\" font-size=\"14.00\">squared_error = 0.561</text>\n<text text-anchor=\"start\" x=\"196\" y=\"-198.8\" font-family=\"Helvetica,sans-Serif\" font-size=\"14.00\">samples = 6268</text>\n<text text-anchor=\"start\" x=\"203.5\" y=\"-183.8\" font-family=\"Helvetica,sans-Serif\" font-size=\"14.00\">value = 1.358</text>\n</g>\n<!-- 1&#45;&gt;2 -->\n<g id=\"edge2\" class=\"edge\">\n<title>1&#45;&gt;2</title>\n<path fill=\"none\" stroke=\"black\" d=\"M421.93,-282.53C392.9,-270.83 359.56,-257.39 329.68,-245.34\"/>\n<polygon fill=\"black\" stroke=\"black\" points=\"330.7,-241.98 320.11,-241.48 328.08,-248.47 330.7,-241.98\"/>\n</g>\n<!-- 12353 -->\n<g id=\"node10\" class=\"node\">\n<title>12353</title>\n<path fill=\"#f5cdb0\" stroke=\"black\" d=\"M561,-244C561,-244 434,-244 434,-244 428,-244 422,-238 422,-232 422,-232 422,-188 422,-188 422,-182 428,-176 434,-176 434,-176 561,-176 561,-176 567,-176 573,-182 573,-188 573,-188 573,-232 573,-232 573,-238 567,-244 561,-244\"/>\n<text text-anchor=\"start\" x=\"441.5\" y=\"-228.8\" font-family=\"Helvetica,sans-Serif\" font-size=\"14.00\">AveOccup ≤ 2.418</text>\n<text text-anchor=\"start\" x=\"430\" y=\"-213.8\" font-family=\"Helvetica,sans-Serif\" font-size=\"14.00\">squared_error = 0.827</text>\n<text text-anchor=\"start\" x=\"449\" y=\"-198.8\" font-family=\"Helvetica,sans-Serif\" font-size=\"14.00\">samples = 6833</text>\n<text text-anchor=\"start\" x=\"460\" y=\"-183.8\" font-family=\"Helvetica,sans-Serif\" font-size=\"14.00\">value = 2.09</text>\n</g>\n<!-- 1&#45;&gt;12353 -->\n<g id=\"edge9\" class=\"edge\">\n<title>1&#45;&gt;12353</title>\n<path fill=\"none\" stroke=\"black\" d=\"M497.5,-279.88C497.5,-271.78 497.5,-262.98 497.5,-254.47\"/>\n<polygon fill=\"black\" stroke=\"black\" points=\"501,-254.3 497.5,-244.3 494,-254.3 501,-254.3\"/>\n</g>\n<!-- 3 -->\n<g id=\"node4\" class=\"node\">\n<title>3</title>\n<path fill=\"#f7d9c3\" stroke=\"black\" d=\"M139,-140C139,-140 12,-140 12,-140 6,-140 0,-134 0,-128 0,-128 0,-84 0,-84 0,-78 6,-72 12,-72 12,-72 139,-72 139,-72 145,-72 151,-78 151,-84 151,-84 151,-128 151,-128 151,-134 145,-140 139,-140\"/>\n<text text-anchor=\"start\" x=\"28.5\" y=\"-124.8\" font-family=\"Helvetica,sans-Serif\" font-size=\"14.00\">MedInc ≤ 2.215</text>\n<text text-anchor=\"start\" x=\"8\" y=\"-109.8\" font-family=\"Helvetica,sans-Serif\" font-size=\"14.00\">squared_error = 0.679</text>\n<text text-anchor=\"start\" x=\"27\" y=\"-94.8\" font-family=\"Helvetica,sans-Serif\" font-size=\"14.00\">samples = 2624</text>\n<text text-anchor=\"start\" x=\"34.5\" y=\"-79.8\" font-family=\"Helvetica,sans-Serif\" font-size=\"14.00\">value = 1.626</text>\n</g>\n<!-- 2&#45;&gt;3 -->\n<g id=\"edge3\" class=\"edge\">\n<title>2&#45;&gt;3</title>\n<path fill=\"none\" stroke=\"black\" d=\"M189.63,-175.88C173.46,-166.12 155.64,-155.37 138.97,-145.31\"/>\n<polygon fill=\"black\" stroke=\"black\" points=\"140.75,-142.3 130.38,-140.12 137.14,-148.29 140.75,-142.3\"/>\n</g>\n<!-- 5148 -->\n<g id=\"node7\" class=\"node\">\n<title>5148</title>\n<path fill=\"#fae5d6\" stroke=\"black\" d=\"M308,-140C308,-140 181,-140 181,-140 175,-140 169,-134 169,-128 169,-128 169,-84 169,-84 169,-78 175,-72 181,-72 181,-72 308,-72 308,-72 314,-72 320,-78 320,-84 320,-84 320,-128 320,-128 320,-134 314,-140 308,-140\"/>\n<text text-anchor=\"start\" x=\"197.5\" y=\"-124.8\" font-family=\"Helvetica,sans-Serif\" font-size=\"14.00\">MedInc ≤ 2.418</text>\n<text text-anchor=\"start\" x=\"177\" y=\"-109.8\" font-family=\"Helvetica,sans-Serif\" font-size=\"14.00\">squared_error = 0.387</text>\n<text text-anchor=\"start\" x=\"196\" y=\"-94.8\" font-family=\"Helvetica,sans-Serif\" font-size=\"14.00\">samples = 3644</text>\n<text text-anchor=\"start\" x=\"203.5\" y=\"-79.8\" font-family=\"Helvetica,sans-Serif\" font-size=\"14.00\">value = 1.165</text>\n</g>\n<!-- 2&#45;&gt;5148 -->\n<g id=\"edge6\" class=\"edge\">\n<title>2&#45;&gt;5148</title>\n<path fill=\"none\" stroke=\"black\" d=\"M244.5,-175.88C244.5,-167.78 244.5,-158.98 244.5,-150.47\"/>\n<polygon fill=\"black\" stroke=\"black\" points=\"248,-150.3 244.5,-140.3 241,-150.3 248,-150.3\"/>\n</g>\n<!-- 4 -->\n<g id=\"node5\" class=\"node\">\n<title>4</title>\n<path fill=\"#c0c0c0\" stroke=\"black\" d=\"M78.5,-36C78.5,-36 48.5,-36 48.5,-36 42.5,-36 36.5,-30 36.5,-24 36.5,-24 36.5,-12 36.5,-12 36.5,-6 42.5,0 48.5,0 48.5,0 78.5,0 78.5,0 84.5,0 90.5,-6 90.5,-12 90.5,-12 90.5,-24 90.5,-24 90.5,-30 84.5,-36 78.5,-36\"/>\n<text text-anchor=\"middle\" x=\"63.5\" y=\"-14.3\" font-family=\"Helvetica,sans-Serif\" font-size=\"14.00\">(...)</text>\n</g>\n<!-- 3&#45;&gt;4 -->\n<g id=\"edge4\" class=\"edge\">\n<title>3&#45;&gt;4</title>\n<path fill=\"none\" stroke=\"black\" d=\"M70.89,-72C69.72,-63.56 68.47,-54.59 67.33,-46.47\"/>\n<polygon fill=\"black\" stroke=\"black\" points=\"70.78,-45.82 65.93,-36.4 63.84,-46.79 70.78,-45.82\"/>\n</g>\n<!-- 2749 -->\n<g id=\"node6\" class=\"node\">\n<title>2749</title>\n<path fill=\"#c0c0c0\" stroke=\"black\" d=\"M150.5,-36C150.5,-36 120.5,-36 120.5,-36 114.5,-36 108.5,-30 108.5,-24 108.5,-24 108.5,-12 108.5,-12 108.5,-6 114.5,0 120.5,0 120.5,0 150.5,0 150.5,0 156.5,0 162.5,-6 162.5,-12 162.5,-12 162.5,-24 162.5,-24 162.5,-30 156.5,-36 150.5,-36\"/>\n<text text-anchor=\"middle\" x=\"135.5\" y=\"-14.3\" font-family=\"Helvetica,sans-Serif\" font-size=\"14.00\">(...)</text>\n</g>\n<!-- 3&#45;&gt;2749 -->\n<g id=\"edge5\" class=\"edge\">\n<title>3&#45;&gt;2749</title>\n<path fill=\"none\" stroke=\"black\" d=\"M98.53,-72C104.8,-63 111.52,-53.38 117.47,-44.84\"/>\n<polygon fill=\"black\" stroke=\"black\" points=\"120.51,-46.61 123.36,-36.4 114.77,-42.6 120.51,-46.61\"/>\n</g>\n<!-- 5149 -->\n<g id=\"node8\" class=\"node\">\n<title>5149</title>\n<path fill=\"#c0c0c0\" stroke=\"black\" d=\"M223.5,-36C223.5,-36 193.5,-36 193.5,-36 187.5,-36 181.5,-30 181.5,-24 181.5,-24 181.5,-12 181.5,-12 181.5,-6 187.5,0 193.5,0 193.5,0 223.5,0 223.5,0 229.5,0 235.5,-6 235.5,-12 235.5,-12 235.5,-24 235.5,-24 235.5,-30 229.5,-36 223.5,-36\"/>\n<text text-anchor=\"middle\" x=\"208.5\" y=\"-14.3\" font-family=\"Helvetica,sans-Serif\" font-size=\"14.00\">(...)</text>\n</g>\n<!-- 5148&#45;&gt;5149 -->\n<g id=\"edge7\" class=\"edge\">\n<title>5148&#45;&gt;5149</title>\n<path fill=\"none\" stroke=\"black\" d=\"M230.68,-72C227.04,-63.28 223.14,-53.98 219.66,-45.65\"/>\n<polygon fill=\"black\" stroke=\"black\" points=\"222.88,-44.28 215.79,-36.4 216.42,-46.98 222.88,-44.28\"/>\n</g>\n<!-- 8766 -->\n<g id=\"node9\" class=\"node\">\n<title>8766</title>\n<path fill=\"#c0c0c0\" stroke=\"black\" d=\"M295.5,-36C295.5,-36 265.5,-36 265.5,-36 259.5,-36 253.5,-30 253.5,-24 253.5,-24 253.5,-12 253.5,-12 253.5,-6 259.5,0 265.5,0 265.5,0 295.5,0 295.5,0 301.5,0 307.5,-6 307.5,-12 307.5,-12 307.5,-24 307.5,-24 307.5,-30 301.5,-36 295.5,-36\"/>\n<text text-anchor=\"middle\" x=\"280.5\" y=\"-14.3\" font-family=\"Helvetica,sans-Serif\" font-size=\"14.00\">(...)</text>\n</g>\n<!-- 5148&#45;&gt;8766 -->\n<g id=\"edge8\" class=\"edge\">\n<title>5148&#45;&gt;8766</title>\n<path fill=\"none\" stroke=\"black\" d=\"M258.32,-72C261.96,-63.28 265.86,-53.98 269.34,-45.65\"/>\n<polygon fill=\"black\" stroke=\"black\" points=\"272.58,-46.98 273.21,-36.4 266.12,-44.28 272.58,-46.98\"/>\n</g>\n<!-- 12354 -->\n<g id=\"node11\" class=\"node\">\n<title>12354</title>\n<path fill=\"#f1bc95\" stroke=\"black\" d=\"M477,-140C477,-140 350,-140 350,-140 344,-140 338,-134 338,-128 338,-128 338,-84 338,-84 338,-78 344,-72 350,-72 350,-72 477,-72 477,-72 483,-72 489,-78 489,-84 489,-84 489,-128 489,-128 489,-134 483,-140 477,-140\"/>\n<text text-anchor=\"start\" x=\"361\" y=\"-124.8\" font-family=\"Helvetica,sans-Serif\" font-size=\"14.00\">Latitude ≤ 37.935</text>\n<text text-anchor=\"start\" x=\"346\" y=\"-109.8\" font-family=\"Helvetica,sans-Serif\" font-size=\"14.00\">squared_error = 1.248</text>\n<text text-anchor=\"start\" x=\"365\" y=\"-94.8\" font-family=\"Helvetica,sans-Serif\" font-size=\"14.00\">samples = 1755</text>\n<text text-anchor=\"start\" x=\"372.5\" y=\"-79.8\" font-family=\"Helvetica,sans-Serif\" font-size=\"14.00\">value = 2.736</text>\n</g>\n<!-- 12353&#45;&gt;12354 -->\n<g id=\"edge10\" class=\"edge\">\n<title>12353&#45;&gt;12354</title>\n<path fill=\"none\" stroke=\"black\" d=\"M470.23,-175.88C462.97,-167.07 455.03,-157.43 447.46,-148.24\"/>\n<polygon fill=\"black\" stroke=\"black\" points=\"449.98,-145.79 440.92,-140.3 444.58,-150.24 449.98,-145.79\"/>\n</g>\n<!-- 15711 -->\n<g id=\"node14\" class=\"node\">\n<title>15711</title>\n<path fill=\"#f6d2b9\" stroke=\"black\" d=\"M646,-140C646,-140 519,-140 519,-140 513,-140 507,-134 507,-128 507,-128 507,-84 507,-84 507,-78 513,-72 519,-72 519,-72 646,-72 646,-72 652,-72 658,-78 658,-84 658,-84 658,-128 658,-128 658,-134 652,-140 646,-140\"/>\n<text text-anchor=\"start\" x=\"535.5\" y=\"-124.8\" font-family=\"Helvetica,sans-Serif\" font-size=\"14.00\">MedInc ≤ 4.121</text>\n<text text-anchor=\"start\" x=\"515\" y=\"-109.8\" font-family=\"Helvetica,sans-Serif\" font-size=\"14.00\">squared_error = 0.488</text>\n<text text-anchor=\"start\" x=\"534\" y=\"-94.8\" font-family=\"Helvetica,sans-Serif\" font-size=\"14.00\">samples = 5078</text>\n<text text-anchor=\"start\" x=\"541.5\" y=\"-79.8\" font-family=\"Helvetica,sans-Serif\" font-size=\"14.00\">value = 1.867</text>\n</g>\n<!-- 12353&#45;&gt;15711 -->\n<g id=\"edge13\" class=\"edge\">\n<title>12353&#45;&gt;15711</title>\n<path fill=\"none\" stroke=\"black\" d=\"M525.1,-175.88C532.45,-167.07 540.47,-157.43 548.14,-148.24\"/>\n<polygon fill=\"black\" stroke=\"black\" points=\"551.04,-150.22 554.75,-140.3 545.66,-145.74 551.04,-150.22\"/>\n</g>\n<!-- 12355 -->\n<g id=\"node12\" class=\"node\">\n<title>12355</title>\n<path fill=\"#c0c0c0\" stroke=\"black\" d=\"M368.5,-36C368.5,-36 338.5,-36 338.5,-36 332.5,-36 326.5,-30 326.5,-24 326.5,-24 326.5,-12 326.5,-12 326.5,-6 332.5,0 338.5,0 338.5,0 368.5,0 368.5,0 374.5,0 380.5,-6 380.5,-12 380.5,-12 380.5,-24 380.5,-24 380.5,-30 374.5,-36 368.5,-36\"/>\n<text text-anchor=\"middle\" x=\"353.5\" y=\"-14.3\" font-family=\"Helvetica,sans-Serif\" font-size=\"14.00\">(...)</text>\n</g>\n<!-- 12354&#45;&gt;12355 -->\n<g id=\"edge11\" class=\"edge\">\n<title>12354&#45;&gt;12355</title>\n<path fill=\"none\" stroke=\"black\" d=\"M390.47,-72C384.2,-63 377.48,-53.38 371.53,-44.84\"/>\n<polygon fill=\"black\" stroke=\"black\" points=\"374.23,-42.6 365.64,-36.4 368.49,-46.61 374.23,-42.6\"/>\n</g>\n<!-- 15200 -->\n<g id=\"node13\" class=\"node\">\n<title>15200</title>\n<path fill=\"#c0c0c0\" stroke=\"black\" d=\"M440.5,-36C440.5,-36 410.5,-36 410.5,-36 404.5,-36 398.5,-30 398.5,-24 398.5,-24 398.5,-12 398.5,-12 398.5,-6 404.5,0 410.5,0 410.5,0 440.5,0 440.5,0 446.5,0 452.5,-6 452.5,-12 452.5,-12 452.5,-24 452.5,-24 452.5,-30 446.5,-36 440.5,-36\"/>\n<text text-anchor=\"middle\" x=\"425.5\" y=\"-14.3\" font-family=\"Helvetica,sans-Serif\" font-size=\"14.00\">(...)</text>\n</g>\n<!-- 12354&#45;&gt;15200 -->\n<g id=\"edge12\" class=\"edge\">\n<title>12354&#45;&gt;15200</title>\n<path fill=\"none\" stroke=\"black\" d=\"M418.11,-72C419.28,-63.56 420.53,-54.59 421.67,-46.47\"/>\n<polygon fill=\"black\" stroke=\"black\" points=\"425.16,-46.79 423.07,-36.4 418.22,-45.82 425.16,-46.79\"/>\n</g>\n<!-- 15712 -->\n<g id=\"node15\" class=\"node\">\n<title>15712</title>\n<path fill=\"#c0c0c0\" stroke=\"black\" d=\"M537.5,-36C537.5,-36 507.5,-36 507.5,-36 501.5,-36 495.5,-30 495.5,-24 495.5,-24 495.5,-12 495.5,-12 495.5,-6 501.5,0 507.5,0 507.5,0 537.5,0 537.5,0 543.5,0 549.5,-6 549.5,-12 549.5,-12 549.5,-24 549.5,-24 549.5,-30 543.5,-36 537.5,-36\"/>\n<text text-anchor=\"middle\" x=\"522.5\" y=\"-14.3\" font-family=\"Helvetica,sans-Serif\" font-size=\"14.00\">(...)</text>\n</g>\n<!-- 15711&#45;&gt;15712 -->\n<g id=\"edge14\" class=\"edge\">\n<title>15711&#45;&gt;15712</title>\n<path fill=\"none\" stroke=\"black\" d=\"M559.47,-72C553.2,-63 546.48,-53.38 540.53,-44.84\"/>\n<polygon fill=\"black\" stroke=\"black\" points=\"543.23,-42.6 534.64,-36.4 537.49,-46.61 543.23,-42.6\"/>\n</g>\n<!-- 21733 -->\n<g id=\"node16\" class=\"node\">\n<title>21733</title>\n<path fill=\"#c0c0c0\" stroke=\"black\" d=\"M609.5,-36C609.5,-36 579.5,-36 579.5,-36 573.5,-36 567.5,-30 567.5,-24 567.5,-24 567.5,-12 567.5,-12 567.5,-6 573.5,0 579.5,0 579.5,0 609.5,0 609.5,0 615.5,0 621.5,-6 621.5,-12 621.5,-12 621.5,-24 621.5,-24 621.5,-30 615.5,-36 609.5,-36\"/>\n<text text-anchor=\"middle\" x=\"594.5\" y=\"-14.3\" font-family=\"Helvetica,sans-Serif\" font-size=\"14.00\">(...)</text>\n</g>\n<!-- 15711&#45;&gt;21733 -->\n<g id=\"edge15\" class=\"edge\">\n<title>15711&#45;&gt;21733</title>\n<path fill=\"none\" stroke=\"black\" d=\"M587.11,-72C588.28,-63.56 589.53,-54.59 590.67,-46.47\"/>\n<polygon fill=\"black\" stroke=\"black\" points=\"594.16,-46.79 592.07,-36.4 587.22,-45.82 594.16,-46.79\"/>\n</g>\n<!-- 25815 -->\n<g id=\"node18\" class=\"node\">\n<title>25815</title>\n<path fill=\"#f0b68d\" stroke=\"black\" d=\"M900,-244C900,-244 773,-244 773,-244 767,-244 761,-238 761,-232 761,-232 761,-188 761,-188 761,-182 767,-176 773,-176 773,-176 900,-176 900,-176 906,-176 912,-182 912,-188 912,-188 912,-232 912,-232 912,-238 906,-244 900,-244\"/>\n<text text-anchor=\"start\" x=\"780.5\" y=\"-228.8\" font-family=\"Helvetica,sans-Serif\" font-size=\"14.00\">AveOccup ≤ 2.671</text>\n<text text-anchor=\"start\" x=\"769\" y=\"-213.8\" font-family=\"Helvetica,sans-Serif\" font-size=\"14.00\">squared_error = 0.908</text>\n<text text-anchor=\"start\" x=\"788\" y=\"-198.8\" font-family=\"Helvetica,sans-Serif\" font-size=\"14.00\">samples = 2384</text>\n<text text-anchor=\"start\" x=\"795.5\" y=\"-183.8\" font-family=\"Helvetica,sans-Serif\" font-size=\"14.00\">value = 2.954</text>\n</g>\n<!-- 25814&#45;&gt;25815 -->\n<g id=\"edge17\" class=\"edge\">\n<title>25814&#45;&gt;25815</title>\n<path fill=\"none\" stroke=\"black\" d=\"M836.5,-279.88C836.5,-271.78 836.5,-262.98 836.5,-254.47\"/>\n<polygon fill=\"black\" stroke=\"black\" points=\"840,-254.3 836.5,-244.3 833,-254.3 840,-254.3\"/>\n</g>\n<!-- 30412 -->\n<g id=\"node25\" class=\"node\">\n<title>30412</title>\n<path fill=\"#e99457\" stroke=\"black\" d=\"M1145,-244C1145,-244 1026,-244 1026,-244 1020,-244 1014,-238 1014,-232 1014,-232 1014,-188 1014,-188 1014,-182 1020,-176 1026,-176 1026,-176 1145,-176 1145,-176 1151,-176 1157,-182 1157,-188 1157,-188 1157,-232 1157,-232 1157,-238 1151,-244 1145,-244\"/>\n<text text-anchor=\"start\" x=\"1038.5\" y=\"-228.8\" font-family=\"Helvetica,sans-Serif\" font-size=\"14.00\">MedInc ≤ 7.815</text>\n<text text-anchor=\"start\" x=\"1022\" y=\"-213.8\" font-family=\"Helvetica,sans-Serif\" font-size=\"14.00\">squared_error = 0.74</text>\n<text text-anchor=\"start\" x=\"1037\" y=\"-198.8\" font-family=\"Helvetica,sans-Serif\" font-size=\"14.00\">samples = 1027</text>\n<text text-anchor=\"start\" x=\"1044.5\" y=\"-183.8\" font-family=\"Helvetica,sans-Serif\" font-size=\"14.00\">value = 4.262</text>\n</g>\n<!-- 25814&#45;&gt;30412 -->\n<g id=\"edge24\" class=\"edge\">\n<title>25814&#45;&gt;30412</title>\n<path fill=\"none\" stroke=\"black\" d=\"M912.22,-281.98C941.4,-270.03 974.82,-256.34 1004.48,-244.19\"/>\n<polygon fill=\"black\" stroke=\"black\" points=\"1006.04,-247.33 1013.97,-240.3 1003.39,-240.85 1006.04,-247.33\"/>\n</g>\n<!-- 25816 -->\n<g id=\"node19\" class=\"node\">\n<title>25816</title>\n<path fill=\"#eda876\" stroke=\"black\" d=\"M815,-140C815,-140 688,-140 688,-140 682,-140 676,-134 676,-128 676,-128 676,-84 676,-84 676,-78 682,-72 688,-72 688,-72 815,-72 815,-72 821,-72 827,-78 827,-84 827,-84 827,-128 827,-128 827,-134 821,-140 815,-140\"/>\n<text text-anchor=\"start\" x=\"699\" y=\"-124.8\" font-family=\"Helvetica,sans-Serif\" font-size=\"14.00\">HouseAge ≤ 21.5</text>\n<text text-anchor=\"start\" x=\"684\" y=\"-109.8\" font-family=\"Helvetica,sans-Serif\" font-size=\"14.00\">squared_error = 1.012</text>\n<text text-anchor=\"start\" x=\"706.5\" y=\"-94.8\" font-family=\"Helvetica,sans-Serif\" font-size=\"14.00\">samples = 860</text>\n<text text-anchor=\"start\" x=\"710.5\" y=\"-79.8\" font-family=\"Helvetica,sans-Serif\" font-size=\"14.00\">value = 3.518</text>\n</g>\n<!-- 25815&#45;&gt;25816 -->\n<g id=\"edge18\" class=\"edge\">\n<title>25815&#45;&gt;25816</title>\n<path fill=\"none\" stroke=\"black\" d=\"M808.9,-175.88C801.55,-167.07 793.53,-157.43 785.86,-148.24\"/>\n<polygon fill=\"black\" stroke=\"black\" points=\"788.34,-145.74 779.25,-140.3 782.96,-150.22 788.34,-145.74\"/>\n</g>\n<!-- 27389 -->\n<g id=\"node22\" class=\"node\">\n<title>27389</title>\n<path fill=\"#f2be9a\" stroke=\"black\" d=\"M984,-140C984,-140 857,-140 857,-140 851,-140 845,-134 845,-128 845,-128 845,-84 845,-84 845,-78 851,-72 857,-72 857,-72 984,-72 984,-72 990,-72 996,-78 996,-84 996,-84 996,-128 996,-128 996,-134 990,-140 984,-140\"/>\n<text text-anchor=\"start\" x=\"873.5\" y=\"-124.8\" font-family=\"Helvetica,sans-Serif\" font-size=\"14.00\">MedInc ≤ 5.739</text>\n<text text-anchor=\"start\" x=\"853\" y=\"-109.8\" font-family=\"Helvetica,sans-Serif\" font-size=\"14.00\">squared_error = 0.569</text>\n<text text-anchor=\"start\" x=\"872\" y=\"-94.8\" font-family=\"Helvetica,sans-Serif\" font-size=\"14.00\">samples = 1524</text>\n<text text-anchor=\"start\" x=\"879.5\" y=\"-79.8\" font-family=\"Helvetica,sans-Serif\" font-size=\"14.00\">value = 2.636</text>\n</g>\n<!-- 25815&#45;&gt;27389 -->\n<g id=\"edge21\" class=\"edge\">\n<title>25815&#45;&gt;27389</title>\n<path fill=\"none\" stroke=\"black\" d=\"M863.77,-175.88C871.03,-167.07 878.97,-157.43 886.54,-148.24\"/>\n<polygon fill=\"black\" stroke=\"black\" points=\"889.42,-150.24 893.08,-140.3 884.02,-145.79 889.42,-150.24\"/>\n</g>\n<!-- 25817 -->\n<g id=\"node20\" class=\"node\">\n<title>25817</title>\n<path fill=\"#c0c0c0\" stroke=\"black\" d=\"M706.5,-36C706.5,-36 676.5,-36 676.5,-36 670.5,-36 664.5,-30 664.5,-24 664.5,-24 664.5,-12 664.5,-12 664.5,-6 670.5,0 676.5,0 676.5,0 706.5,0 706.5,0 712.5,0 718.5,-6 718.5,-12 718.5,-12 718.5,-24 718.5,-24 718.5,-30 712.5,-36 706.5,-36\"/>\n<text text-anchor=\"middle\" x=\"691.5\" y=\"-14.3\" font-family=\"Helvetica,sans-Serif\" font-size=\"14.00\">(...)</text>\n</g>\n<!-- 25816&#45;&gt;25817 -->\n<g id=\"edge19\" class=\"edge\">\n<title>25816&#45;&gt;25817</title>\n<path fill=\"none\" stroke=\"black\" d=\"M728.47,-72C722.2,-63 715.48,-53.38 709.53,-44.84\"/>\n<polygon fill=\"black\" stroke=\"black\" points=\"712.23,-42.6 703.64,-36.4 706.49,-46.61 712.23,-42.6\"/>\n</g>\n<!-- 26336 -->\n<g id=\"node21\" class=\"node\">\n<title>26336</title>\n<path fill=\"#c0c0c0\" stroke=\"black\" d=\"M778.5,-36C778.5,-36 748.5,-36 748.5,-36 742.5,-36 736.5,-30 736.5,-24 736.5,-24 736.5,-12 736.5,-12 736.5,-6 742.5,0 748.5,0 748.5,0 778.5,0 778.5,0 784.5,0 790.5,-6 790.5,-12 790.5,-12 790.5,-24 790.5,-24 790.5,-30 784.5,-36 778.5,-36\"/>\n<text text-anchor=\"middle\" x=\"763.5\" y=\"-14.3\" font-family=\"Helvetica,sans-Serif\" font-size=\"14.00\">(...)</text>\n</g>\n<!-- 25816&#45;&gt;26336 -->\n<g id=\"edge20\" class=\"edge\">\n<title>25816&#45;&gt;26336</title>\n<path fill=\"none\" stroke=\"black\" d=\"M756.11,-72C757.28,-63.56 758.53,-54.59 759.67,-46.47\"/>\n<polygon fill=\"black\" stroke=\"black\" points=\"763.16,-46.79 761.07,-36.4 756.22,-45.82 763.16,-46.79\"/>\n</g>\n<!-- 27390 -->\n<g id=\"node23\" class=\"node\">\n<title>27390</title>\n<path fill=\"#c0c0c0\" stroke=\"black\" d=\"M873.5,-36C873.5,-36 843.5,-36 843.5,-36 837.5,-36 831.5,-30 831.5,-24 831.5,-24 831.5,-12 831.5,-12 831.5,-6 837.5,0 843.5,0 843.5,0 873.5,0 873.5,0 879.5,0 885.5,-6 885.5,-12 885.5,-12 885.5,-24 885.5,-24 885.5,-30 879.5,-36 873.5,-36\"/>\n<text text-anchor=\"middle\" x=\"858.5\" y=\"-14.3\" font-family=\"Helvetica,sans-Serif\" font-size=\"14.00\">(...)</text>\n</g>\n<!-- 27389&#45;&gt;27390 -->\n<g id=\"edge22\" class=\"edge\">\n<title>27389&#45;&gt;27390</title>\n<path fill=\"none\" stroke=\"black\" d=\"M896.71,-72C890.15,-62.9 883.14,-53.18 876.93,-44.57\"/>\n<polygon fill=\"black\" stroke=\"black\" points=\"879.73,-42.47 871.05,-36.4 874.06,-46.56 879.73,-42.47\"/>\n</g>\n<!-- 28881 -->\n<g id=\"node24\" class=\"node\">\n<title>28881</title>\n<path fill=\"#c0c0c0\" stroke=\"black\" d=\"M945.5,-36C945.5,-36 915.5,-36 915.5,-36 909.5,-36 903.5,-30 903.5,-24 903.5,-24 903.5,-12 903.5,-12 903.5,-6 909.5,0 915.5,0 915.5,0 945.5,0 945.5,0 951.5,0 957.5,-6 957.5,-12 957.5,-12 957.5,-24 957.5,-24 957.5,-30 951.5,-36 945.5,-36\"/>\n<text text-anchor=\"middle\" x=\"930.5\" y=\"-14.3\" font-family=\"Helvetica,sans-Serif\" font-size=\"14.00\">(...)</text>\n</g>\n<!-- 27389&#45;&gt;28881 -->\n<g id=\"edge23\" class=\"edge\">\n<title>27389&#45;&gt;28881</title>\n<path fill=\"none\" stroke=\"black\" d=\"M924.34,-72C925.32,-63.56 926.36,-54.59 927.31,-46.47\"/>\n<polygon fill=\"black\" stroke=\"black\" points=\"930.8,-46.74 928.48,-36.4 923.84,-45.93 930.8,-46.74\"/>\n</g>\n<!-- 30413 -->\n<g id=\"node26\" class=\"node\">\n<title>30413</title>\n<path fill=\"#eca16b\" stroke=\"black\" d=\"M1145,-140C1145,-140 1026,-140 1026,-140 1020,-140 1014,-134 1014,-128 1014,-128 1014,-84 1014,-84 1014,-78 1020,-72 1026,-72 1026,-72 1145,-72 1145,-72 1151,-72 1157,-78 1157,-84 1157,-84 1157,-128 1157,-128 1157,-134 1151,-140 1145,-140\"/>\n<text text-anchor=\"start\" x=\"1033\" y=\"-124.8\" font-family=\"Helvetica,sans-Serif\" font-size=\"14.00\">HouseAge ≤ 26.5</text>\n<text text-anchor=\"start\" x=\"1022\" y=\"-109.8\" font-family=\"Helvetica,sans-Serif\" font-size=\"14.00\">squared_error = 0.73</text>\n<text text-anchor=\"start\" x=\"1040.5\" y=\"-94.8\" font-family=\"Helvetica,sans-Serif\" font-size=\"14.00\">samples = 400</text>\n<text text-anchor=\"start\" x=\"1044.5\" y=\"-79.8\" font-family=\"Helvetica,sans-Serif\" font-size=\"14.00\">value = 3.769</text>\n</g>\n<!-- 30412&#45;&gt;30413 -->\n<g id=\"edge25\" class=\"edge\">\n<title>30412&#45;&gt;30413</title>\n<path fill=\"none\" stroke=\"black\" d=\"M1085.5,-175.88C1085.5,-167.78 1085.5,-158.98 1085.5,-150.47\"/>\n<polygon fill=\"black\" stroke=\"black\" points=\"1089,-150.3 1085.5,-140.3 1082,-150.3 1089,-150.3\"/>\n</g>\n<!-- 31122 -->\n<g id=\"node29\" class=\"node\">\n<title>31122</title>\n<path fill=\"#e78c4a\" stroke=\"black\" d=\"M1314,-140C1314,-140 1187,-140 1187,-140 1181,-140 1175,-134 1175,-128 1175,-128 1175,-84 1175,-84 1175,-78 1181,-72 1187,-72 1187,-72 1314,-72 1314,-72 1320,-72 1326,-78 1326,-84 1326,-84 1326,-128 1326,-128 1326,-134 1320,-140 1314,-140\"/>\n<text text-anchor=\"start\" x=\"1203.5\" y=\"-124.8\" font-family=\"Helvetica,sans-Serif\" font-size=\"14.00\">MedInc ≤ 8.865</text>\n<text text-anchor=\"start\" x=\"1183\" y=\"-109.8\" font-family=\"Helvetica,sans-Serif\" font-size=\"14.00\">squared_error = 0.492</text>\n<text text-anchor=\"start\" x=\"1205.5\" y=\"-94.8\" font-family=\"Helvetica,sans-Serif\" font-size=\"14.00\">samples = 627</text>\n<text text-anchor=\"start\" x=\"1209.5\" y=\"-79.8\" font-family=\"Helvetica,sans-Serif\" font-size=\"14.00\">value = 4.577</text>\n</g>\n<!-- 30412&#45;&gt;31122 -->\n<g id=\"edge28\" class=\"edge\">\n<title>30412&#45;&gt;31122</title>\n<path fill=\"none\" stroke=\"black\" d=\"M1139.07,-175.88C1154.71,-166.21 1171.94,-155.56 1188.08,-145.59\"/>\n<polygon fill=\"black\" stroke=\"black\" points=\"1190.25,-148.36 1196.92,-140.12 1186.57,-142.41 1190.25,-148.36\"/>\n</g>\n<!-- 30414 -->\n<g id=\"node27\" class=\"node\">\n<title>30414</title>\n<path fill=\"#c0c0c0\" stroke=\"black\" d=\"M1056.5,-36C1056.5,-36 1026.5,-36 1026.5,-36 1020.5,-36 1014.5,-30 1014.5,-24 1014.5,-24 1014.5,-12 1014.5,-12 1014.5,-6 1020.5,0 1026.5,0 1026.5,0 1056.5,0 1056.5,0 1062.5,0 1068.5,-6 1068.5,-12 1068.5,-12 1068.5,-24 1068.5,-24 1068.5,-30 1062.5,-36 1056.5,-36\"/>\n<text text-anchor=\"middle\" x=\"1041.5\" y=\"-14.3\" font-family=\"Helvetica,sans-Serif\" font-size=\"14.00\">(...)</text>\n</g>\n<!-- 30413&#45;&gt;30414 -->\n<g id=\"edge26\" class=\"edge\">\n<title>30413&#45;&gt;30414</title>\n<path fill=\"none\" stroke=\"black\" d=\"M1068.61,-72C1064.11,-63.19 1059.3,-53.78 1055,-45.38\"/>\n<polygon fill=\"black\" stroke=\"black\" points=\"1058.07,-43.71 1050.4,-36.4 1051.84,-46.9 1058.07,-43.71\"/>\n</g>\n<!-- 30893 -->\n<g id=\"node28\" class=\"node\">\n<title>30893</title>\n<path fill=\"#c0c0c0\" stroke=\"black\" d=\"M1128.5,-36C1128.5,-36 1098.5,-36 1098.5,-36 1092.5,-36 1086.5,-30 1086.5,-24 1086.5,-24 1086.5,-12 1086.5,-12 1086.5,-6 1092.5,0 1098.5,0 1098.5,0 1128.5,0 1128.5,0 1134.5,0 1140.5,-6 1140.5,-12 1140.5,-12 1140.5,-24 1140.5,-24 1140.5,-30 1134.5,-36 1128.5,-36\"/>\n<text text-anchor=\"middle\" x=\"1113.5\" y=\"-14.3\" font-family=\"Helvetica,sans-Serif\" font-size=\"14.00\">(...)</text>\n</g>\n<!-- 30413&#45;&gt;30893 -->\n<g id=\"edge27\" class=\"edge\">\n<title>30413&#45;&gt;30893</title>\n<path fill=\"none\" stroke=\"black\" d=\"M1096.25,-72C1099.05,-63.38 1102.04,-54.19 1104.73,-45.92\"/>\n<polygon fill=\"black\" stroke=\"black\" points=\"1108.07,-47 1107.83,-36.4 1101.41,-44.83 1108.07,-47\"/>\n</g>\n<!-- 31123 -->\n<g id=\"node30\" class=\"node\">\n<title>31123</title>\n<path fill=\"#c0c0c0\" stroke=\"black\" d=\"M1229.5,-36C1229.5,-36 1199.5,-36 1199.5,-36 1193.5,-36 1187.5,-30 1187.5,-24 1187.5,-24 1187.5,-12 1187.5,-12 1187.5,-6 1193.5,0 1199.5,0 1199.5,0 1229.5,0 1229.5,0 1235.5,0 1241.5,-6 1241.5,-12 1241.5,-12 1241.5,-24 1241.5,-24 1241.5,-30 1235.5,-36 1229.5,-36\"/>\n<text text-anchor=\"middle\" x=\"1214.5\" y=\"-14.3\" font-family=\"Helvetica,sans-Serif\" font-size=\"14.00\">(...)</text>\n</g>\n<!-- 31122&#45;&gt;31123 -->\n<g id=\"edge29\" class=\"edge\">\n<title>31122&#45;&gt;31123</title>\n<path fill=\"none\" stroke=\"black\" d=\"M1236.68,-72C1233.04,-63.28 1229.14,-53.98 1225.66,-45.65\"/>\n<polygon fill=\"black\" stroke=\"black\" points=\"1228.88,-44.28 1221.79,-36.4 1222.42,-46.98 1228.88,-44.28\"/>\n</g>\n<!-- 31510 -->\n<g id=\"node31\" class=\"node\">\n<title>31510</title>\n<path fill=\"#c0c0c0\" stroke=\"black\" d=\"M1301.5,-36C1301.5,-36 1271.5,-36 1271.5,-36 1265.5,-36 1259.5,-30 1259.5,-24 1259.5,-24 1259.5,-12 1259.5,-12 1259.5,-6 1265.5,0 1271.5,0 1271.5,0 1301.5,0 1301.5,0 1307.5,0 1313.5,-6 1313.5,-12 1313.5,-12 1313.5,-24 1313.5,-24 1313.5,-30 1307.5,-36 1301.5,-36\"/>\n<text text-anchor=\"middle\" x=\"1286.5\" y=\"-14.3\" font-family=\"Helvetica,sans-Serif\" font-size=\"14.00\">(...)</text>\n</g>\n<!-- 31122&#45;&gt;31510 -->\n<g id=\"edge30\" class=\"edge\">\n<title>31122&#45;&gt;31510</title>\n<path fill=\"none\" stroke=\"black\" d=\"M1264.32,-72C1267.96,-63.28 1271.86,-53.98 1275.34,-45.65\"/>\n<polygon fill=\"black\" stroke=\"black\" points=\"1278.58,-46.98 1279.21,-36.4 1272.12,-44.28 1278.58,-46.98\"/>\n</g>\n</g>\n</svg>\n",
            "text/plain": [
              "<graphviz.sources.Source at 0x7f9a20d23400>"
            ]
          },
          "metadata": {},
          "execution_count": 52
        }
      ]
    },
    {
      "cell_type": "code",
      "source": [
        "model.tree_.max_depth"
      ],
      "metadata": {
        "colab": {
          "base_uri": "https://localhost:8080/"
        },
        "id": "NPc2H8B5YnI8",
        "outputId": "04209d59-ae65-496e-b3d3-2c4ca3a54085"
      },
      "execution_count": null,
      "outputs": [
        {
          "output_type": "execute_result",
          "data": {
            "text/plain": [
              "34"
            ]
          },
          "metadata": {},
          "execution_count": 53
        }
      ]
    },
    {
      "cell_type": "markdown",
      "source": [
        "Ограничим глубину до 20"
      ],
      "metadata": {
        "id": "CG6qo5-lY7a_"
      }
    },
    {
      "cell_type": "code",
      "source": [
        "model = DecisionTreeRegressor(max_depth = 20)\n",
        "model.fit(X_train, y_train)\n",
        "y_pred = model.predict(X_test)\n",
        "model.score(X_test, y_test)"
      ],
      "metadata": {
        "colab": {
          "base_uri": "https://localhost:8080/"
        },
        "id": "CcZpFLk7Y6L0",
        "outputId": "3e9d2417-40e7-4845-f3c0-ac3eb3943a3c"
      },
      "execution_count": null,
      "outputs": [
        {
          "output_type": "execute_result",
          "data": {
            "text/plain": [
              "0.6248549988502267"
            ]
          },
          "metadata": {},
          "execution_count": 54
        }
      ]
    },
    {
      "cell_type": "markdown",
      "source": [
        "Разницы 0"
      ],
      "metadata": {
        "id": "asbcEnk8ZIh4"
      }
    },
    {
      "cell_type": "code",
      "source": [
        "model = DecisionTreeRegressor(max_depth = 10)\n",
        "model.fit(X_train, y_train)\n",
        "y_pred = model.predict(X_test)\n",
        "model.score(X_test, y_test)"
      ],
      "metadata": {
        "colab": {
          "base_uri": "https://localhost:8080/"
        },
        "id": "MhXWkFpzZJ2z",
        "outputId": "e4e54568-daae-4175-ced1-afab59e37a5e"
      },
      "execution_count": null,
      "outputs": [
        {
          "output_type": "execute_result",
          "data": {
            "text/plain": [
              "0.6842298995638498"
            ]
          },
          "metadata": {},
          "execution_count": 55
        }
      ]
    },
    {
      "cell_type": "markdown",
      "source": [
        "Оп-оп, точность начала расти. Уменьшим глубину ещё до 8"
      ],
      "metadata": {
        "id": "Mn8tafw3ZM0E"
      }
    },
    {
      "cell_type": "code",
      "source": [
        "model = DecisionTreeRegressor(max_depth = 8)\n",
        "model.fit(X_train, y_train)\n",
        "y_pred = model.predict(X_test)\n",
        "model.score(X_test, y_test)"
      ],
      "metadata": {
        "colab": {
          "base_uri": "https://localhost:8080/"
        },
        "id": "U9svJDRdZVMA",
        "outputId": "4288b120-d2e9-4218-f9cd-a1e6997f3fbe"
      },
      "execution_count": null,
      "outputs": [
        {
          "output_type": "execute_result",
          "data": {
            "text/plain": [
              "0.6776920615714156"
            ]
          },
          "metadata": {},
          "execution_count": 56
        }
      ]
    },
    {
      "cell_type": "code",
      "source": [
        "Стало хуже"
      ],
      "metadata": {
        "id": "ih5CBCsWZYDk"
      },
      "execution_count": null,
      "outputs": []
    },
    {
      "cell_type": "code",
      "source": [
        "model = DecisionTreeRegressor(max_depth = 9)\n",
        "model.fit(X_train, y_train)\n",
        "y_pred = model.predict(X_test)\n",
        "model.score(X_test, y_test)"
      ],
      "metadata": {
        "colab": {
          "base_uri": "https://localhost:8080/"
        },
        "id": "iKy4CtV2ZZBD",
        "outputId": "981a9dea-5c2c-4582-9df1-2bcb1c96807f"
      },
      "execution_count": null,
      "outputs": [
        {
          "output_type": "execute_result",
          "data": {
            "text/plain": [
              "0.6826662120368245"
            ]
          },
          "metadata": {},
          "execution_count": 57
        }
      ]
    },
    {
      "cell_type": "markdown",
      "source": [
        "Значит идеальная глубина была 10"
      ],
      "metadata": {
        "id": "b-VEXtSlZbep"
      }
    }
  ]
}