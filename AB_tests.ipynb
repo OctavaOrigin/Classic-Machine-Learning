{
  "cells": [
    {
      "cell_type": "markdown",
      "metadata": {
        "id": "view-in-github",
        "colab_type": "text"
      },
      "source": [
        "<a href=\"https://colab.research.google.com/github/OctavaOrigin/Classic-Machine-Learning/blob/main/AB_tests.ipynb\" target=\"_parent\"><img src=\"https://colab.research.google.com/assets/colab-badge.svg\" alt=\"Open In Colab\"/></a>"
      ]
    },
    {
      "cell_type": "markdown",
      "metadata": {
        "id": "e7kGWQzfQhnv"
      },
      "source": [
        "# Дисперсионный анализ и A/B-тесты"
      ]
    },
    {
      "cell_type": "code",
      "execution_count": null,
      "metadata": {
        "id": "AEW9_lbhQhny"
      },
      "outputs": [],
      "source": [
        "import numpy as np\n",
        "import pandas as pd\n",
        "import scipy.stats as stats\n",
        "import matplotlib.pyplot as plt\n",
        "import seaborn as sns\n",
        "from scipy.stats import f_oneway"
      ]
    },
    {
      "cell_type": "markdown",
      "metadata": {
        "id": "fvC5EwdhQhn0"
      },
      "source": [
        "### Блок 1"
      ]
    },
    {
      "cell_type": "markdown",
      "metadata": {
        "id": "poWkHsJgQhn0"
      },
      "source": [
        "Даны результаты проверки двух препаратов.\n",
        "    \n",
        "Требуется:\n",
        "- Оценить, есть ли различие в эффекте у этих пациентов\n",
        "- Визуально подтвердить результат\n",
        "    \n",
        "`A` - результаты для группы людей получающих препарат А.\n",
        "\n",
        "`B` - результаты для другой группы людей, получающих препарат B."
      ]
    },
    {
      "cell_type": "code",
      "execution_count": null,
      "metadata": {
        "id": "WcJI5u1VQhn1",
        "colab": {
          "base_uri": "https://localhost:8080/",
          "height": 447
        },
        "outputId": "780184c8-1f46-48e2-eea2-86fe25d1385b"
      },
      "outputs": [
        {
          "output_type": "execute_result",
          "data": {
            "text/plain": [
              "<matplotlib.legend.Legend at 0x7fb81dc038b0>"
            ]
          },
          "metadata": {},
          "execution_count": 35
        },
        {
          "output_type": "display_data",
          "data": {
            "text/plain": [
              "<Figure size 640x480 with 1 Axes>"
            ],
            "image/png": "[encoded data removed]"
          },
          "metadata": {}
        }
      ],
      "source": [
        "np.random.seed(11)\n",
        "A = stats.norm.rvs(scale=30, loc=11, size=100)\n",
        "B = A + stats.norm.rvs(scale=54, loc=11, size=100)\n",
        "\n",
        "plt.hist(A, histtype='step', label='A')\n",
        "plt.hist(B, histtype='step', label='B')\n",
        "plt.legend()"
      ]
    },
    {
      "cell_type": "code",
      "source": [
        "t, p = stats.ttest_ind(A, B)\n",
        "print(t)\n",
        "print(p)\n",
        "if p > 0.05:\n",
        "  print('Отклоняем нулевую гипотезу, средние отличаются')\n",
        "else:\n",
        "  print('Принимаем нулевую гипотезу, средние не отличаются')"
      ],
      "metadata": {
        "id": "9Javr0s7lNkK",
        "colab": {
          "base_uri": "https://localhost:8080/"
        },
        "outputId": "1ccfe57d-87cf-47ea-fb88-ce0ea1ea0406"
      },
      "execution_count": null,
      "outputs": [
        {
          "output_type": "stream",
          "name": "stdout",
          "text": [
            "-1.733800647210997\n",
            "0.08451003973499756\n",
            "Отклоняем нулевую гипотезу, средние отличаются\n"
          ]
        }
      ]
    },
    {
      "cell_type": "markdown",
      "metadata": {
        "id": "vmSupeDOQhn1"
      },
      "source": [
        "Допустим, вы решили устроить дачный эксперимент. Берем и поливаем одни огурцы водой, другие огурцы — водой с удобнением, третью группу огурцов будем поливать минералкой.\n",
        "    \n",
        " - Используя дисперсионный анализ, сделайте выводы о распредлениях результатов. Есть ли эффект от удобрения по сравнению с минералкой?\n",
        " - Помимо результата статистического теста, продемонстрируйте отличия визуально с помощью `boxplot` или `hist`"
      ]
    },
    {
      "cell_type": "code",
      "execution_count": null,
      "metadata": {
        "id": "kABU3I4ZQhn2",
        "colab": {
          "base_uri": "https://localhost:8080/",
          "height": 829
        },
        "outputId": "47a4d716-a419-4cc5-ed3e-1c276ab91ada"
      },
      "outputs": [
        {
          "output_type": "stream",
          "name": "stdout",
          "text": [
            "Статистически значимые различия есть\n"
          ]
        },
        {
          "output_type": "execute_result",
          "data": {
            "text/plain": [
              "{'whiskers': [<matplotlib.lines.Line2D at 0x7fb81d892f20>,\n",
              "  <matplotlib.lines.Line2D at 0x7fb81d8931c0>,\n",
              "  <matplotlib.lines.Line2D at 0x7fb81d8401f0>,\n",
              "  <matplotlib.lines.Line2D at 0x7fb81d8404c0>,\n",
              "  <matplotlib.lines.Line2D at 0x7fb81d841780>,\n",
              "  <matplotlib.lines.Line2D at 0x7fb81d8420b0>],\n",
              " 'caps': [<matplotlib.lines.Line2D at 0x7fb81d841390>,\n",
              "  <matplotlib.lines.Line2D at 0x7fb81d840820>,\n",
              "  <matplotlib.lines.Line2D at 0x7fb81d840a60>,\n",
              "  <matplotlib.lines.Line2D at 0x7fb81d842560>,\n",
              "  <matplotlib.lines.Line2D at 0x7fb81d841f60>,\n",
              "  <matplotlib.lines.Line2D at 0x7fb81d842dd0>],\n",
              " 'boxes': [<matplotlib.lines.Line2D at 0x7fb81d892c80>,\n",
              "  <matplotlib.lines.Line2D at 0x7fb81d8439a0>,\n",
              "  <matplotlib.lines.Line2D at 0x7fb81d841720>],\n",
              " 'medians': [<matplotlib.lines.Line2D at 0x7fb81d8428f0>,\n",
              "  <matplotlib.lines.Line2D at 0x7fb81d842230>,\n",
              "  <matplotlib.lines.Line2D at 0x7fb81d841930>],\n",
              " 'fliers': [<matplotlib.lines.Line2D at 0x7fb81d843580>,\n",
              "  <matplotlib.lines.Line2D at 0x7fb81d842110>,\n",
              "  <matplotlib.lines.Line2D at 0x7fb81d842b60>],\n",
              " 'means': []}"
            ]
          },
          "metadata": {},
          "execution_count": 41
        },
        {
          "output_type": "display_data",
          "data": {
            "text/plain": [
              "<Figure size 640x480 with 1 Axes>"
            ],
            "image/png": "[encoded data removed]"
          },
          "metadata": {}
        }
      ],
      "source": [
        "water = [1,2,3,4,2,4,2,4,5,2,3,4,2,1,3,4,3,2,5,1]\n",
        "nutri = [1,2,4,6,5,6,7,5,4,5,6,7,4,3,5,5,6,5,4,3,5]\n",
        "mineral =[2,1,1,3,2,4,2,4,5,4,3,2,3,2,3,1,3,4,5,1,4]\n",
        "\n",
        "from scipy.stats import f_oneway\n",
        "\n",
        "f_value, p_value = f_oneway(water, nutri, mineral)\n",
        "if p_value < 0.05:\n",
        "  print('Статистически значимые различия есть')\n",
        "\n",
        "plt.boxplot([nutri, water, mineral])\n"
      ]
    },
    {
      "cell_type": "markdown",
      "metadata": {
        "id": "eKrRARFIQhn8"
      },
      "source": [
        "#### Покемоны и A/B-тестирование"
      ]
    },
    {
      "cell_type": "markdown",
      "metadata": {
        "id": "anYiIYniQhn8"
      },
      "source": [
        "Покемоны — это маленькие существа, которые сражаются друг с другом на соревнованиях. Все покемоны имеют разные характеристики (сила атаки, защиты и т. д.) и относятся к одному или двум так называемым классам (вода, огонь и т. д.).\n",
        "\n",
        "Профессор Оук является изобретателем Pokedex, портативного устройства, которое хранит информацию обо всех существующих покемонах. Как его ведущий специалист по данным, Вы только что получили от него запрос с просьбой осуществить аналитику данных на всех устройствах Pokedex.\n",
        "\n",
        "**Описание набора данных**\n",
        "Профессор Оук скопировал всё содержимое в память одного устройства Pokedex, в результате чего получился набор данных, с которым Вы будете работать в этой задаче. В этом файле каждая строка представляет характеристики одного покемона:\n",
        "\n",
        "* `pid`: Numeric - ID покемона\n",
        "* `HP`: Numeric - Очки здоровья\n",
        "* `Attack`: Numeric - Сила обычной атаки\n",
        "* `Defense`: Numeric - Сила обычной защиты\n",
        "* `Sp. Atk`: Numeric - Сила специальной атаки\n",
        "* `Sp. Def`: Numeric - Сила специальной защиты\n",
        "* `Speed`: Numeric - Скорость движений\n",
        "* `Legendary`: Boolean - «True», если покемон редкий\n",
        "* `Class 1`: Categorical - Класс покемона\n",
        "* `Class 2`: Categorical - Класс покемона\n"
      ]
    },
    {
      "cell_type": "code",
      "execution_count": null,
      "metadata": {
        "id": "j8iTr5_jQhn9",
        "outputId": "11ec8da0-51f4-4130-aed4-9f5079cb2d7c",
        "colab": {
          "base_uri": "https://localhost:8080/",
          "height": 275
        }
      },
      "outputs": [
        {
          "output_type": "stream",
          "name": "stderr",
          "text": [
            "<ipython-input-3-1e6d6fedfab1>:4: FutureWarning: The error_bad_lines argument has been deprecated and will be removed in a future version. Use on_bad_lines in the future.\n",
            "\n",
            "\n",
            "  pokemon = pd.read_csv(pokemon_path, error_bad_lines=False)\n"
          ]
        },
        {
          "output_type": "execute_result",
          "data": {
            "text/plain": [
              "   pid           Name Class 1 Class 2  HP  Attack  Defense  Sp. Atk  Sp. Def  \\\n",
              "0    1      Bulbasaur   Grass  Poison  45      49       49       65       65   \n",
              "1    2        Ivysaur   Grass  Poison  60      62       63       80       80   \n",
              "2    3       Venusaur   Grass  Poison  80      82       83      100      100   \n",
              "3    4  Mega Venusaur   Grass  Poison  80     100      123      122      120   \n",
              "4    5     Charmander    Fire     NaN  39      52       43       60       50   \n",
              "\n",
              "   Speed  Legendary  \n",
              "0     45      False  \n",
              "1     60      False  \n",
              "2     80      False  \n",
              "3     80      False  \n",
              "4     65      False  "
            ],
            "text/html": [
              "\n",
              "  <div id=\"df-f8558b07-994b-42bc-a992-12789c972b16\">\n",
              "    <div class=\"colab-df-container\">\n",
              "      <div>\n",
              "<style scoped>\n",
              "    .dataframe tbody tr th:only-of-type {\n",
              "        vertical-align: middle;\n",
              "    }\n",
              "\n",
              "    .dataframe tbody tr th {\n",
              "        vertical-align: top;\n",
              "    }\n",
              "\n",
              "    .dataframe thead th {\n",
              "        text-align: right;\n",
              "    }\n",
              "</style>\n",
              "<table border=\"1\" class=\"dataframe\">\n",
              "  <thead>\n",
              "    <tr style=\"text-align: right;\">\n",
              "      <th></th>\n",
              "      <th>pid</th>\n",
              "      <th>Name</th>\n",
              "      <th>Class 1</th>\n",
              "      <th>Class 2</th>\n",
              "      <th>HP</th>\n",
              "      <th>Attack</th>\n",
              "      <th>Defense</th>\n",
              "      <th>Sp. Atk</th>\n",
              "      <th>Sp. Def</th>\n",
              "      <th>Speed</th>\n",
              "      <th>Legendary</th>\n",
              "    </tr>\n",
              "  </thead>\n",
              "  <tbody>\n",
              "    <tr>\n",
              "      <th>0</th>\n",
              "      <td>1</td>\n",
              "      <td>Bulbasaur</td>\n",
              "      <td>Grass</td>\n",
              "      <td>Poison</td>\n",
              "      <td>45</td>\n",
              "      <td>49</td>\n",
              "      <td>49</td>\n",
              "      <td>65</td>\n",
              "      <td>65</td>\n",
              "      <td>45</td>\n",
              "      <td>False</td>\n",
              "    </tr>\n",
              "    <tr>\n",
              "      <th>1</th>\n",
              "      <td>2</td>\n",
              "      <td>Ivysaur</td>\n",
              "      <td>Grass</td>\n",
              "      <td>Poison</td>\n",
              "      <td>60</td>\n",
              "      <td>62</td>\n",
              "      <td>63</td>\n",
              "      <td>80</td>\n",
              "      <td>80</td>\n",
              "      <td>60</td>\n",
              "      <td>False</td>\n",
              "    </tr>\n",
              "    <tr>\n",
              "      <th>2</th>\n",
              "      <td>3</td>\n",
              "      <td>Venusaur</td>\n",
              "      <td>Grass</td>\n",
              "      <td>Poison</td>\n",
              "      <td>80</td>\n",
              "      <td>82</td>\n",
              "      <td>83</td>\n",
              "      <td>100</td>\n",
              "      <td>100</td>\n",
              "      <td>80</td>\n",
              "      <td>False</td>\n",
              "    </tr>\n",
              "    <tr>\n",
              "      <th>3</th>\n",
              "      <td>4</td>\n",
              "      <td>Mega Venusaur</td>\n",
              "      <td>Grass</td>\n",
              "      <td>Poison</td>\n",
              "      <td>80</td>\n",
              "      <td>100</td>\n",
              "      <td>123</td>\n",
              "      <td>122</td>\n",
              "      <td>120</td>\n",
              "      <td>80</td>\n",
              "      <td>False</td>\n",
              "    </tr>\n",
              "    <tr>\n",
              "      <th>4</th>\n",
              "      <td>5</td>\n",
              "      <td>Charmander</td>\n",
              "      <td>Fire</td>\n",
              "      <td>NaN</td>\n",
              "      <td>39</td>\n",
              "      <td>52</td>\n",
              "      <td>43</td>\n",
              "      <td>60</td>\n",
              "      <td>50</td>\n",
              "      <td>65</td>\n",
              "      <td>False</td>\n",
              "    </tr>\n",
              "  </tbody>\n",
              "</table>\n",
              "</div>\n",
              "      <button class=\"colab-df-convert\" onclick=\"convertToInteractive('df-f8558b07-994b-42bc-a992-12789c972b16')\"\n",
              "              title=\"Convert this dataframe to an interactive table.\"\n",
              "              style=\"display:none;\">\n",
              "        \n",
              "  <svg xmlns=\"http://www.w3.org/2000/svg\" height=\"24px\"viewBox=\"0 0 24 24\"\n",
              "       width=\"24px\">\n",
              "    <path d=\"M0 0h24v24H0V0z\" fill=\"none\"/>\n",
              "    <path d=\"M18.56 5.44l.94 2.06.94-2.06 2.06-.94-2.06-.94-.94-2.06-.94 2.06-2.06.94zm-11 1L8.5 8.5l.94-2.06 2.06-.94-2.06-.94L8.5 2.5l-.94 2.06-2.06.94zm10 10l.94 2.06.94-2.06 2.06-.94-2.06-.94-.94-2.06-.94 2.06-2.06.94z\"/><path d=\"M17.41 7.96l-1.37-1.37c-.4-.4-.92-.59-1.43-.59-.52 0-1.04.2-1.43.59L10.3 9.45l-7.72 7.72c-.78.78-.78 2.05 0 2.83L4 21.41c.39.39.9.59 1.41.59.51 0 1.02-.2 1.41-.59l7.78-7.78 2.81-2.81c.8-.78.8-2.07 0-2.86zM5.41 20L4 18.59l7.72-7.72 1.47 1.35L5.41 20z\"/>\n",
              "  </svg>\n",
              "      </button>\n",
              "      \n",
              "  <style>\n",
              "    .colab-df-container {\n",
              "      display:flex;\n",
              "      flex-wrap:wrap;\n",
              "      gap: 12px;\n",
              "    }\n",
              "\n",
              "    .colab-df-convert {\n",
              "      background-color: #E8F0FE;\n",
              "      border: none;\n",
              "      border-radius: 50%;\n",
              "      cursor: pointer;\n",
              "      display: none;\n",
              "      fill: #1967D2;\n",
              "      height: 32px;\n",
              "      padding: 0 0 0 0;\n",
              "      width: 32px;\n",
              "    }\n",
              "\n",
              "    .colab-df-convert:hover {\n",
              "      background-color: #E2EBFA;\n",
              "      box-shadow: 0px 1px 2px rgba(60, 64, 67, 0.3), 0px 1px 3px 1px rgba(60, 64, 67, 0.15);\n",
              "      fill: #174EA6;\n",
              "    }\n",
              "\n",
              "    [theme=dark] .colab-df-convert {\n",
              "      background-color: #3B4455;\n",
              "      fill: #D2E3FC;\n",
              "    }\n",
              "\n",
              "    [theme=dark] .colab-df-convert:hover {\n",
              "      background-color: #434B5C;\n",
              "      box-shadow: 0px 1px 3px 1px rgba(0, 0, 0, 0.15);\n",
              "      filter: drop-shadow(0px 1px 2px rgba(0, 0, 0, 0.3));\n",
              "      fill: #FFFFFF;\n",
              "    }\n",
              "  </style>\n",
              "\n",
              "      <script>\n",
              "        const buttonEl =\n",
              "          document.querySelector('#df-f8558b07-994b-42bc-a992-12789c972b16 button.colab-df-convert');\n",
              "        buttonEl.style.display =\n",
              "          google.colab.kernel.accessAllowed ? 'block' : 'none';\n",
              "\n",
              "        async function convertToInteractive(key) {\n",
              "          const element = document.querySelector('#df-f8558b07-994b-42bc-a992-12789c972b16');\n",
              "          const dataTable =\n",
              "            await google.colab.kernel.invokeFunction('convertToInteractive',\n",
              "                                                     [key], {});\n",
              "          if (!dataTable) return;\n",
              "\n",
              "          const docLinkHtml = 'Like what you see? Visit the ' +\n",
              "            '<a target=\"_blank\" href=https://colab.research.google.com/notebooks/data_table.ipynb>data table notebook</a>'\n",
              "            + ' to learn more about interactive tables.';\n",
              "          element.innerHTML = '';\n",
              "          dataTable['output_type'] = 'display_data';\n",
              "          await google.colab.output.renderOutput(dataTable, element);\n",
              "          const docLink = document.createElement('div');\n",
              "          docLink.innerHTML = docLinkHtml;\n",
              "          element.appendChild(docLink);\n",
              "        }\n",
              "      </script>\n",
              "    </div>\n",
              "  </div>\n",
              "  "
            ]
          },
          "metadata": {},
          "execution_count": 3
        }
      ],
      "source": [
        "pokemon_path = 'https://raw.githubusercontent.com/a-milenkin/datasets_for_t-tests/main/pokemon.csv'\n",
        "pokemon = pd.read_csv(pokemon_path, error_bad_lines=False)\n",
        "pokemon.head()"
      ]
    },
    {
      "cell_type": "markdown",
      "metadata": {
        "id": "Z2XFc8u9Qhn9"
      },
      "source": [
        "**Задание № 1**\n",
        "    \n",
        "Профессор Оук подозревает, что покемоны в классе `grass` имеют более сильную обычную атаку, чем покемоны в классе `rock`. Проверьте, прав ли он, и убедите его в своём выводе статистически.\n",
        "    \n",
        "Примечание:\n",
        "- покемоны, которые относятся к обоим классам, не должны входить в выборку;\n",
        "- Вы можете предположить, что распределение обычных атак является нормальным для всех классов покемонов."
      ]
    },
    {
      "cell_type": "code",
      "execution_count": null,
      "metadata": {
        "id": "TnYVQw-uQhn9",
        "colab": {
          "base_uri": "https://localhost:8080/",
          "height": 517
        },
        "outputId": "ae33cce2-a8e1-41a0-a5a2-ffcf78daaa6b"
      },
      "outputs": [
        {
          "output_type": "stream",
          "name": "stdout",
          "text": [
            "Оук не прав\n",
            "0.9999\n"
          ]
        },
        {
          "output_type": "execute_result",
          "data": {
            "text/plain": [
              "([<matplotlib.axis.XTick at 0x7fb1f08e8f40>,\n",
              "  <matplotlib.axis.XTick at 0x7fb1f08e8f10>],\n",
              " [Text(1, 0, 'grass'), Text(2, 0, 'rock')])"
            ]
          },
          "metadata": {},
          "execution_count": 7
        },
        {
          "output_type": "display_data",
          "data": {
            "text/plain": [
              "<Figure size 640x480 with 1 Axes>"
            ],
            "image/png": "[encoded data removed]"
          },
          "metadata": {}
        }
      ],
      "source": [
        "pokemon_grass = pokemon.loc[((pokemon['Class 1'] == 'Grass') & (pokemon['Class 2'] != 'Rock')) | ((pokemon['Class 2'] == 'Grass') & (pokemon['Class 1'] != 'Rock'))]\n",
        "pokemon_rock = pokemon.loc[((pokemon['Class 1'] != 'Grass') & (pokemon['Class 2'] == 'Rock')) | ((pokemon['Class 2'] != 'Grass') & (pokemon['Class 1'] == 'Rock'))]\n",
        "\n",
        "grass_attacks = pokemon_grass['Attack'].values\n",
        "rock_attacks = pokemon_rock['Attack'].values\n",
        "\n",
        "stat, p = stats.ttest_ind(grass_attacks, rock_attacks, alternative='greater')\n",
        "\n",
        "if (p > 0.05):\n",
        "  print('Оук не прав')\n",
        "  print(round(p, 4))\n",
        "else:\n",
        "  print('Оук был прав, покумены из класса grass \"бьют\" сильнее')\n",
        "  print(p)\n",
        "\n",
        "plt.boxplot([grass_attacks, rock_attacks])\n",
        "plt.xticks(range(1, 3), labels=['grass', 'rock'])\n",
        "\n"
      ]
    },
    {
      "cell_type": "markdown",
      "metadata": {
        "id": "gl1J3lZOQhn9"
      },
      "source": [
        "**Задание № 2**\n",
        "    \n",
        "Профессор Оук уже долго не может спать по ночам, ведь его волнует вопрос: а правда ли, что покемоны в классе `Water` в среднем быстрее покемонов в классе `Normal`.\n",
        "\n",
        "Проверьте, прав ли он, и убедите его в своем выводе статистически.\n",
        "    \n",
        "Примечание:\n",
        "- покемоны, которые относятся к обоим классам, не должны входить в выборку;\n",
        "- Вы можете предположить, что распределение обычных атак является нормальным для всех классов покемонов."
      ]
    },
    {
      "cell_type": "code",
      "execution_count": null,
      "metadata": {
        "id": "L5N9Oif5Qhn-",
        "colab": {
          "base_uri": "https://localhost:8080/",
          "height": 499
        },
        "outputId": "5b57742e-dfac-4578-8d3e-04c52322fb71"
      },
      "outputs": [
        {
          "output_type": "stream",
          "name": "stdout",
          "text": [
            "Оук был прав, в классе water покемоны быстрее\n"
          ]
        },
        {
          "output_type": "execute_result",
          "data": {
            "text/plain": [
              "([<matplotlib.axis.XTick at 0x7fb1f0778610>,\n",
              "  <matplotlib.axis.XTick at 0x7fb1f0778640>],\n",
              " [Text(1, 0, 'water'), Text(2, 0, 'normal')])"
            ]
          },
          "metadata": {},
          "execution_count": 8
        },
        {
          "output_type": "display_data",
          "data": {
            "text/plain": [
              "<Figure size 640x480 with 1 Axes>"
            ],
            "image/png": "[encoded data removed]"
          },
          "metadata": {}
        }
      ],
      "source": [
        "pokemon_water = pokemon.loc[((pokemon['Class 1'] == 'Water') & (pokemon['Class 2'] != 'Normal')) | ((pokemon['Class 2'] == 'Water') & (pokemon['Class 1'] != 'Normal'))]\n",
        "pokemon_normal = pokemon.loc[((pokemon['Class 1'] != 'Water') & (pokemon['Class 2'] == 'Normal')) | ((pokemon['Class 2'] != 'Water') & (pokemon['Class 1'] == 'Normal'))]\n",
        "\n",
        "water_speed = pokemon_grass['Speed'].values\n",
        "normal_speed = pokemon_rock['Speed'].values\n",
        "\n",
        "stat, p = stats.ttest_ind(water_speed, normal_speed, alternative='greater')\n",
        "\n",
        "if (p < 0.05):\n",
        "  print('Оук был прав, в классе water покемоны быстрее')\n",
        "else:\n",
        "  print('Оук был не прав, в классе water покемоны не быстрее')\n",
        "  print(p)\n",
        "\n",
        "plt.boxplot([water_speed, normal_speed])\n",
        "plt.xticks(range(1, 3), labels=['water', 'normal'])"
      ]
    },
    {
      "cell_type": "markdown",
      "metadata": {
        "id": "AFjz6FWSQhn-"
      },
      "source": [
        "**Задание № 3:**\n",
        "    \n",
        "Профессор Оук тот еще безумец. Он изобрел сыворотку, способную ускорить покемона.\n",
        "Однако мы усомнились в эффективности его вакцины. Професоор дал эту сыворотку некоторым покемонам (массив `treathed_pokemon`).\n",
        "Проверьте, работает ли вообще его сыворотка, и убедите всех в своем выводе статистически."
      ]
    },
    {
      "cell_type": "code",
      "execution_count": null,
      "metadata": {
        "id": "AJ959NuAQhn-"
      },
      "outputs": [],
      "source": [
        "# Покемоны, которые принимали сыворотку\n",
        "treathed_pokemon = ['Mega Beedrill','Mega Alakazam', 'Deoxys Normal Forme', 'Mega Lopunny']"
      ]
    },
    {
      "cell_type": "code",
      "execution_count": null,
      "metadata": {
        "id": "-EW24i85Qhn-",
        "colab": {
          "base_uri": "https://localhost:8080/",
          "height": 499
        },
        "outputId": "3ef9ac5d-bb44-4000-ad18-94675f9d6a86"
      },
      "outputs": [
        {
          "output_type": "stream",
          "name": "stdout",
          "text": [
            "Скорости и правда различаются\n"
          ]
        },
        {
          "output_type": "execute_result",
          "data": {
            "text/plain": [
              "([<matplotlib.axis.XTick at 0x7fb81cec55a0>,\n",
              "  <matplotlib.axis.XTick at 0x7fb81cec5570>],\n",
              " [Text(1, 0, 'tp_speed'), Text(2, 0, 'everybody else`s speed')])"
            ]
          },
          "metadata": {},
          "execution_count": 86
        },
        {
          "output_type": "display_data",
          "data": {
            "text/plain": [
              "<Figure size 640x480 with 1 Axes>"
            ],
            "image/png": "[encoded data removed]"
          },
          "metadata": {}
        }
      ],
      "source": [
        "pokemon_tp = pokemon.loc[pokemon['Name'].isin(treathed_pokemon)]\n",
        "pokemon_tp_speed = pokemon_tp['Speed'].values\n",
        "pokemon_else = pokemon.loc[~(pokemon['Name'].isin(treathed_pokemon))]\n",
        "pokemon_else_speed = pokemon_else['Speed'].values\n",
        "\n",
        "stat, p = stats.ttest_ind(pokemon_tp_speed, pokemon_else_speed)\n",
        "if p > 0.05:\n",
        "  print('Безумие не окупилось')\n",
        "else:\n",
        "  print('Скорости и правда различаются')\n",
        "\n",
        "plt.boxplot([pokemon_tp_speed, pokemon_else_speed])\n",
        "plt.xticks(range(1, 3), labels=['tp_speed', 'everybody else`s speed'])"
      ]
    },
    {
      "cell_type": "markdown",
      "metadata": {
        "id": "7-ham4IoQhn-"
      },
      "source": [
        "**Задание № 4**\n",
        "    \n",
        "Профессор Оук всегда любил истории про легендарных покемонов. Однако профессор не очень уверен, что они лучше остальных покемонов.\n",
        "Оук предложил разобраться в этом Вам.\n",
        "\n",
        "Действительно ли сумма характеристик `HP`, `Attack`, `Defense` у легендарных покемонов выше, чем у других покемонов? А произведение этих же параметров?\n",
        "\n",
        "Найдите ответы на эти вопросы и убедите всех в своем выводе статистически.\n",
        "\n",
        "*Вы можете предположить, что распределение сум и произведений этих параметров является нормальным для всех классов покемонов.*"
      ]
    },
    {
      "cell_type": "code",
      "execution_count": null,
      "metadata": {
        "id": "bvh_G-etQhn_",
        "colab": {
          "base_uri": "https://localhost:8080/",
          "height": 499
        },
        "outputId": "a385ba60-7de6-46ff-f631-f25f78b396ba"
      },
      "outputs": [
        {
          "output_type": "stream",
          "name": "stdout",
          "text": [
            "Суммы у легендарных выше\n"
          ]
        },
        {
          "output_type": "execute_result",
          "data": {
            "text/plain": [
              "([<matplotlib.axis.XTick at 0x7fb1f07f6530>,\n",
              "  <matplotlib.axis.XTick at 0x7fb1f07f6560>],\n",
              " [Text(1, 0, 'legendary'), Text(2, 0, 'not legendary')])"
            ]
          },
          "metadata": {},
          "execution_count": 9
        },
        {
          "output_type": "display_data",
          "data": {
            "text/plain": [
              "<Figure size 640x480 with 1 Axes>"
            ],
            "image/png": "[encoded data removed]"
          },
          "metadata": {}
        }
      ],
      "source": [
        "pokemon_legendary = pokemon.loc[pokemon['Legendary'] == True, ['HP', 'Attack', 'Defense']].sum().values\n",
        "pokemon_not_legendary = pokemon.loc[pokemon['Legendary'] == False, ['HP', 'Attack', 'Defense']]\n",
        "pokemon_not_legendary = pokemon_not_legendary.sample(n = pokemon.loc[pokemon['Legendary'] == True, ['pid']].count()[0])\n",
        "pokemon_not_legendary = pokemon_not_legendary.sum().values\n",
        "\n",
        "stat, p = stats.ttest_ind(pokemon_legendary, pokemon_not_legendary, alternative='greater')\n",
        "if p < 0.05:\n",
        "  print('Суммы у легендарных выше')\n",
        "else:\n",
        "  print('Суммы у легендарных НЕ выше')\n",
        "\n",
        "plt.boxplot([pokemon_legendary, pokemon_not_legendary])\n",
        "plt.xticks(range(1, 3), labels=['legendary', 'not legendary'])"
      ]
    },
    {
      "cell_type": "code",
      "source": [
        "pokemon_legendary = pokemon.loc[pokemon['Legendary'] == True, ['HP', 'Attack', 'Defense']].prod(axis=1).values\n",
        "pokemon_not_legendary = pokemon.loc[pokemon['Legendary'] == False, ['HP', 'Attack', 'Defense']]\n",
        "pokemon_not_legendary = pokemon_not_legendary.sample(n = pokemon.loc[pokemon['Legendary'] == True, ['pid']].count()[0])\n",
        "\n",
        "pokemon_not_legendary = pokemon_not_legendary.prod(axis=1).values\n",
        "\n",
        "stat, p = stats.ttest_ind(pokemon_legendary, pokemon_not_legendary, alternative='greater')\n",
        "if p < 0.05:\n",
        "  print('Произведения у легендарных выше')\n",
        "else:\n",
        "  print('Произведения у легендарных НЕ выше')\n",
        "\n",
        "plt.boxplot([pokemon_legendary, pokemon_not_legendary])\n",
        "plt.xticks(range(1, 3), labels=['legendary', 'not legendary'])"
      ],
      "metadata": {
        "colab": {
          "base_uri": "https://localhost:8080/",
          "height": 514
        },
        "id": "FWZ8BlGYj4Nq",
        "outputId": "a46716ae-0103-43f5-9410-01101967cd0a"
      },
      "execution_count": null,
      "outputs": [
        {
          "output_type": "stream",
          "name": "stdout",
          "text": [
            "Произведения у легендарных выше\n"
          ]
        },
        {
          "output_type": "execute_result",
          "data": {
            "text/plain": [
              "([<matplotlib.axis.XTick at 0x7fb1f06a4550>,\n",
              "  <matplotlib.axis.XTick at 0x7fb1f06a4520>],\n",
              " [Text(1, 0, 'legendary'), Text(2, 0, 'not legendary')])"
            ]
          },
          "metadata": {},
          "execution_count": 10
        },
        {
          "output_type": "display_data",
          "data": {
            "text/plain": [
              "<Figure size 640x480 with 1 Axes>"
            ],
            "image/png": "[encoded data removed]"
          },
          "metadata": {}
        }
      ]
    },
    {
      "cell_type": "markdown",
      "metadata": {
        "id": "Am2qg0hTQhn_"
      },
      "source": [
        "**Задание № 5**\n",
        "    \n",
        "Профессор Оук частенько наблюдает за боями покемонов. После очередных таких боев Оук выделил три класса (массив `best_defence_class`), которые на его взгляд одинаковы по \"силе обычной защиты\" `Defense`.\n",
        "\n",
        "Проверьте, действительно ли эти классы покемонов не отличаются по уровню защиты статистически значимо. Все та же статистика Вам в помощь!\n",
        "\n",
        "*Вы можете предположить, что распределение сум и произведений этих параметров является нормальным для всех классов покемонов.*"
      ]
    },
    {
      "cell_type": "code",
      "execution_count": null,
      "metadata": {
        "id": "REfzvysJQhn_"
      },
      "outputs": [],
      "source": [
        "best_defence_class = ['Rock', 'Ground','Steel','Ice']"
      ]
    },
    {
      "cell_type": "code",
      "execution_count": null,
      "metadata": {
        "id": "d34B8zhPQhn_",
        "colab": {
          "base_uri": "https://localhost:8080/"
        },
        "outputId": "3fbf2137-f399-430c-8dde-6c23eb9689a4"
      },
      "outputs": [
        {
          "output_type": "stream",
          "name": "stdout",
          "text": [
            "Статистические различия в `защите` есть\n"
          ]
        }
      ],
      "source": [
        "rock = pokemon.loc[(pokemon['Class 1'] == 'Rock') | (pokemon['Class 2'] == 'Rock'), ['Defense']].values\n",
        "ground = pokemon.loc[(pokemon['Class 1'] == 'Ground') | (pokemon['Class 2'] == 'Ground'), ['Defense']].values\n",
        "steel = pokemon.loc[(pokemon['Class 1'] == 'Steel') | (pokemon['Class 2'] == 'Steel'), ['Defense']].values\n",
        "ice = pokemon.loc[(pokemon['Class 1'] == 'Ice') | (pokemon['Class 2'] == 'Ice'), ['Defense']].values\n",
        "\n",
        "stat, p = f_oneway(*[rock, ground, steel, ice])\n",
        "\n",
        "if p < 0.05:\n",
        "  print('Статистические различия в `защите` есть')\n"
      ]
    }
  ],
  "metadata": {
    "language_info": {
      "name": "python"
    },
    "orig_nbformat": 4,
    "colab": {
      "provenance": [],
      "include_colab_link": true
    },
    "kernelspec": {
      "name": "python3",
      "display_name": "Python 3"
    },
    "gpuClass": "standard"
  },
  "nbformat": 4,
  "nbformat_minor": 0
}